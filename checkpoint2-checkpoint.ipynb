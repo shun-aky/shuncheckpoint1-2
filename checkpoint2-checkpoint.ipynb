{
 "cells": [
  {
   "cell_type": "markdown",
   "metadata": {},
   "source": [
    "<h1> Checkpoint:</h1>\n",
    "\n",
    "**Looking to see completetion and effort in completing the checkpoint. It's okay if it's not correct**\n",
    "\n",
    "Based off this dataset with school financial, enrollment, and achievement data, we are interested in what information is a useful indicator of student performance at the state level.\n",
    "\n",
    "This question is a bit too big for a checkpoint, however. Instead, we want you to look at smaller questions related to our overall goal. Here's the overview:\n",
    "\n",
    "1. Choose a specific test to focus on\n",
    ">Math/Reading for 4/8 grade\n",
    "* Pick or create features to use\n",
    ">Will all the features be useful in predicting test score? Are some more important than others? Should you standardize, bin, or scale the data?\n",
    "* Explore the data as it relates to that test\n",
    ">Create 2 well-labeled visualizations (graphs), each with a caption describing the graph and what it tells us about the data\n",
    "* Create training and testing data\n",
    ">Do you want to train on all the data? Only data from the last 10 years? Only Michigan data?\n",
    "* Train a ML model to predict outcome \n",
    ">Pick if you want to do a regression or classification task. For both cases, defined _exactly_ what you want to predict, and pick any model in sklearn to use (see sklearn <a href=\"https://scikit-learn.org/stable/modules/linear_model.html\">regressors</a> and <a href=\"https://scikit-learn.org/stable/auto_examples/classification/plot_classifier_comparison.html\">classifiers</a>).\n",
    "* Summarize your findings\n",
    ">Write a 1 paragraph summary of what you did and make a recommendation about if and how student performance can be predicted\n",
    "\n",
    "** Include comments throughout your code! Every cleanup and preprocessing task should be documented.\n",
    "\n",
    "\n",
    "Of course, if you're finding this assignment interesting (and we really hope you do!), you are welcome to do more than the requirements! For example, you may want to see if expenditure affects 4th graders more than 8th graders. Maybe you want to look into the extended version of this dataset and see how factors like sex and race are involved. You can include all your work in this notebook when you turn it in -- just always make sure you explain what you did and interpret your results. Good luck!"
   ]
  },
  {
   "cell_type": "markdown",
   "metadata": {},
   "source": [
    "<h2> Data Cleanup </h2>\n",
    "\n",
    "Import numpy, pandas, matplotlib, and seaborn\n",
    "\n",
    "(Feel free to import other libraries!)"
   ]
  },
  {
   "cell_type": "code",
   "execution_count": 2,
   "metadata": {},
   "outputs": [],
   "source": [
    "import pandas as pd\n",
    "import numpy as np\n",
    "import matplotlib.pyplot as plt"
   ]
  },
  {
   "cell_type": "markdown",
   "metadata": {},
   "source": [
    "Load in the \"states_edu.csv\" dataset and take a look at the head of the data"
   ]
  },
  {
   "cell_type": "code",
   "execution_count": 5,
   "metadata": {},
   "outputs": [
    {
     "data": {
      "text/html": [
       "<div>\n",
       "<style scoped>\n",
       "    .dataframe tbody tr th:only-of-type {\n",
       "        vertical-align: middle;\n",
       "    }\n",
       "\n",
       "    .dataframe tbody tr th {\n",
       "        vertical-align: top;\n",
       "    }\n",
       "\n",
       "    .dataframe thead th {\n",
       "        text-align: right;\n",
       "    }\n",
       "</style>\n",
       "<table border=\"1\" class=\"dataframe\">\n",
       "  <thead>\n",
       "    <tr style=\"text-align: right;\">\n",
       "      <th></th>\n",
       "      <th>PRIMARY_KEY</th>\n",
       "      <th>STATE</th>\n",
       "      <th>YEAR</th>\n",
       "      <th>ENROLL</th>\n",
       "      <th>TOTAL_REVENUE</th>\n",
       "      <th>FEDERAL_REVENUE</th>\n",
       "      <th>STATE_REVENUE</th>\n",
       "      <th>LOCAL_REVENUE</th>\n",
       "      <th>TOTAL_EXPENDITURE</th>\n",
       "      <th>INSTRUCTION_EXPENDITURE</th>\n",
       "      <th>...</th>\n",
       "      <th>GRADES_4_G</th>\n",
       "      <th>GRADES_8_G</th>\n",
       "      <th>GRADES_12_G</th>\n",
       "      <th>GRADES_1_8_G</th>\n",
       "      <th>GRADES_9_12_G</th>\n",
       "      <th>GRADES_ALL_G</th>\n",
       "      <th>AVG_MATH_4_SCORE</th>\n",
       "      <th>AVG_MATH_8_SCORE</th>\n",
       "      <th>AVG_READING_4_SCORE</th>\n",
       "      <th>AVG_READING_8_SCORE</th>\n",
       "    </tr>\n",
       "  </thead>\n",
       "  <tbody>\n",
       "    <tr>\n",
       "      <th>0</th>\n",
       "      <td>1992_ALABAMA</td>\n",
       "      <td>ALABAMA</td>\n",
       "      <td>1992</td>\n",
       "      <td>NaN</td>\n",
       "      <td>2678885.0</td>\n",
       "      <td>304177.0</td>\n",
       "      <td>1659028.0</td>\n",
       "      <td>715680.0</td>\n",
       "      <td>2653798.0</td>\n",
       "      <td>1481703.0</td>\n",
       "      <td>...</td>\n",
       "      <td>57948.0</td>\n",
       "      <td>58025.0</td>\n",
       "      <td>41167.0</td>\n",
       "      <td>NaN</td>\n",
       "      <td>NaN</td>\n",
       "      <td>731634.0</td>\n",
       "      <td>208.0</td>\n",
       "      <td>252.0</td>\n",
       "      <td>207.0</td>\n",
       "      <td>NaN</td>\n",
       "    </tr>\n",
       "    <tr>\n",
       "      <th>1</th>\n",
       "      <td>1992_ALASKA</td>\n",
       "      <td>ALASKA</td>\n",
       "      <td>1992</td>\n",
       "      <td>NaN</td>\n",
       "      <td>1049591.0</td>\n",
       "      <td>106780.0</td>\n",
       "      <td>720711.0</td>\n",
       "      <td>222100.0</td>\n",
       "      <td>972488.0</td>\n",
       "      <td>498362.0</td>\n",
       "      <td>...</td>\n",
       "      <td>9748.0</td>\n",
       "      <td>8789.0</td>\n",
       "      <td>6714.0</td>\n",
       "      <td>NaN</td>\n",
       "      <td>NaN</td>\n",
       "      <td>122487.0</td>\n",
       "      <td>NaN</td>\n",
       "      <td>NaN</td>\n",
       "      <td>NaN</td>\n",
       "      <td>NaN</td>\n",
       "    </tr>\n",
       "    <tr>\n",
       "      <th>2</th>\n",
       "      <td>1992_ARIZONA</td>\n",
       "      <td>ARIZONA</td>\n",
       "      <td>1992</td>\n",
       "      <td>NaN</td>\n",
       "      <td>3258079.0</td>\n",
       "      <td>297888.0</td>\n",
       "      <td>1369815.0</td>\n",
       "      <td>1590376.0</td>\n",
       "      <td>3401580.0</td>\n",
       "      <td>1435908.0</td>\n",
       "      <td>...</td>\n",
       "      <td>55433.0</td>\n",
       "      <td>49081.0</td>\n",
       "      <td>37410.0</td>\n",
       "      <td>NaN</td>\n",
       "      <td>NaN</td>\n",
       "      <td>673477.0</td>\n",
       "      <td>215.0</td>\n",
       "      <td>265.0</td>\n",
       "      <td>209.0</td>\n",
       "      <td>NaN</td>\n",
       "    </tr>\n",
       "    <tr>\n",
       "      <th>3</th>\n",
       "      <td>1992_ARKANSAS</td>\n",
       "      <td>ARKANSAS</td>\n",
       "      <td>1992</td>\n",
       "      <td>NaN</td>\n",
       "      <td>1711959.0</td>\n",
       "      <td>178571.0</td>\n",
       "      <td>958785.0</td>\n",
       "      <td>574603.0</td>\n",
       "      <td>1743022.0</td>\n",
       "      <td>964323.0</td>\n",
       "      <td>...</td>\n",
       "      <td>34632.0</td>\n",
       "      <td>36011.0</td>\n",
       "      <td>27651.0</td>\n",
       "      <td>NaN</td>\n",
       "      <td>NaN</td>\n",
       "      <td>441490.0</td>\n",
       "      <td>210.0</td>\n",
       "      <td>256.0</td>\n",
       "      <td>211.0</td>\n",
       "      <td>NaN</td>\n",
       "    </tr>\n",
       "    <tr>\n",
       "      <th>4</th>\n",
       "      <td>1992_CALIFORNIA</td>\n",
       "      <td>CALIFORNIA</td>\n",
       "      <td>1992</td>\n",
       "      <td>NaN</td>\n",
       "      <td>26260025.0</td>\n",
       "      <td>2072470.0</td>\n",
       "      <td>16546514.0</td>\n",
       "      <td>7641041.0</td>\n",
       "      <td>27138832.0</td>\n",
       "      <td>14358922.0</td>\n",
       "      <td>...</td>\n",
       "      <td>418418.0</td>\n",
       "      <td>363296.0</td>\n",
       "      <td>270675.0</td>\n",
       "      <td>NaN</td>\n",
       "      <td>NaN</td>\n",
       "      <td>5254844.0</td>\n",
       "      <td>208.0</td>\n",
       "      <td>261.0</td>\n",
       "      <td>202.0</td>\n",
       "      <td>NaN</td>\n",
       "    </tr>\n",
       "  </tbody>\n",
       "</table>\n",
       "<p>5 rows × 25 columns</p>\n",
       "</div>"
      ],
      "text/plain": [
       "       PRIMARY_KEY       STATE  YEAR  ENROLL  TOTAL_REVENUE  FEDERAL_REVENUE  \\\n",
       "0     1992_ALABAMA     ALABAMA  1992     NaN      2678885.0         304177.0   \n",
       "1      1992_ALASKA      ALASKA  1992     NaN      1049591.0         106780.0   \n",
       "2     1992_ARIZONA     ARIZONA  1992     NaN      3258079.0         297888.0   \n",
       "3    1992_ARKANSAS    ARKANSAS  1992     NaN      1711959.0         178571.0   \n",
       "4  1992_CALIFORNIA  CALIFORNIA  1992     NaN     26260025.0        2072470.0   \n",
       "\n",
       "   STATE_REVENUE  LOCAL_REVENUE  TOTAL_EXPENDITURE  INSTRUCTION_EXPENDITURE  \\\n",
       "0      1659028.0       715680.0          2653798.0                1481703.0   \n",
       "1       720711.0       222100.0           972488.0                 498362.0   \n",
       "2      1369815.0      1590376.0          3401580.0                1435908.0   \n",
       "3       958785.0       574603.0          1743022.0                 964323.0   \n",
       "4     16546514.0      7641041.0         27138832.0               14358922.0   \n",
       "\n",
       "   ...  GRADES_4_G  GRADES_8_G  GRADES_12_G  GRADES_1_8_G  GRADES_9_12_G  \\\n",
       "0  ...     57948.0     58025.0      41167.0           NaN            NaN   \n",
       "1  ...      9748.0      8789.0       6714.0           NaN            NaN   \n",
       "2  ...     55433.0     49081.0      37410.0           NaN            NaN   \n",
       "3  ...     34632.0     36011.0      27651.0           NaN            NaN   \n",
       "4  ...    418418.0    363296.0     270675.0           NaN            NaN   \n",
       "\n",
       "   GRADES_ALL_G  AVG_MATH_4_SCORE  AVG_MATH_8_SCORE  AVG_READING_4_SCORE  \\\n",
       "0      731634.0             208.0             252.0                207.0   \n",
       "1      122487.0               NaN               NaN                  NaN   \n",
       "2      673477.0             215.0             265.0                209.0   \n",
       "3      441490.0             210.0             256.0                211.0   \n",
       "4     5254844.0             208.0             261.0                202.0   \n",
       "\n",
       "   AVG_READING_8_SCORE  \n",
       "0                  NaN  \n",
       "1                  NaN  \n",
       "2                  NaN  \n",
       "3                  NaN  \n",
       "4                  NaN  \n",
       "\n",
       "[5 rows x 25 columns]"
      ]
     },
     "execution_count": 5,
     "metadata": {},
     "output_type": "execute_result"
    }
   ],
   "source": [
    "data = pd.read_csv('../data/states_edu.csv')\n",
    "data.head()"
   ]
  },
  {
   "cell_type": "markdown",
   "metadata": {},
   "source": [
    "You should always familiarize yourself with what each column in the dataframe represents. \\ Read about the states_edu dataset here: https://www.kaggle.com/noriuk/us-education-datasets-unification-project"
   ]
  },
  {
   "cell_type": "markdown",
   "metadata": {},
   "source": [
    "Use this space to rename columns, deal with missing data, etc. _(optional)_"
   ]
  },
  {
   "cell_type": "code",
   "execution_count": 20,
   "metadata": {},
   "outputs": [
    {
     "data": {
      "text/html": [
       "<div>\n",
       "<style scoped>\n",
       "    .dataframe tbody tr th:only-of-type {\n",
       "        vertical-align: middle;\n",
       "    }\n",
       "\n",
       "    .dataframe tbody tr th {\n",
       "        vertical-align: top;\n",
       "    }\n",
       "\n",
       "    .dataframe thead th {\n",
       "        text-align: right;\n",
       "    }\n",
       "</style>\n",
       "<table border=\"1\" class=\"dataframe\">\n",
       "  <thead>\n",
       "    <tr style=\"text-align: right;\">\n",
       "      <th></th>\n",
       "      <th>PRIMARY_KEY</th>\n",
       "      <th>STATE</th>\n",
       "      <th>YEAR</th>\n",
       "      <th>ENROLL_ALL_EST</th>\n",
       "      <th>TOTAL_REVENUE</th>\n",
       "      <th>FEDERAL_REVENUE</th>\n",
       "      <th>STATE_REVENUE</th>\n",
       "      <th>LOCAL_REVENUE</th>\n",
       "      <th>TOTAL_EXPENDITURE</th>\n",
       "      <th>INSTRUCTION_EXPENDITURE</th>\n",
       "      <th>...</th>\n",
       "      <th>ENROLL_4</th>\n",
       "      <th>ENROLL_8</th>\n",
       "      <th>ENROLL_12</th>\n",
       "      <th>ENROLL_PRIMARY</th>\n",
       "      <th>ENROLL_HS</th>\n",
       "      <th>ENROLL_ALL</th>\n",
       "      <th>AVG_MATH_4_SCORE</th>\n",
       "      <th>AVG_MATH_8_SCORE</th>\n",
       "      <th>AVG_READING_4_SCORE</th>\n",
       "      <th>AVG_READING_8_SCORE</th>\n",
       "    </tr>\n",
       "  </thead>\n",
       "  <tbody>\n",
       "    <tr>\n",
       "      <th>561</th>\n",
       "      <td>2003_ALABAMA</td>\n",
       "      <td>ALABAMA</td>\n",
       "      <td>2003</td>\n",
       "      <td>727900.0</td>\n",
       "      <td>5196054.0</td>\n",
       "      <td>567704.0</td>\n",
       "      <td>2966981.0</td>\n",
       "      <td>1661369.0</td>\n",
       "      <td>5298932.0</td>\n",
       "      <td>2817111.0</td>\n",
       "      <td>...</td>\n",
       "      <td>57323.0</td>\n",
       "      <td>59663.0</td>\n",
       "      <td>42005.0</td>\n",
       "      <td>466920.0</td>\n",
       "      <td>205907.0</td>\n",
       "      <td>731220.0</td>\n",
       "      <td>223.0</td>\n",
       "      <td>262.0</td>\n",
       "      <td>207.0</td>\n",
       "      <td>253.0</td>\n",
       "    </tr>\n",
       "    <tr>\n",
       "      <th>562</th>\n",
       "      <td>2003_ALASKA</td>\n",
       "      <td>ALASKA</td>\n",
       "      <td>2003</td>\n",
       "      <td>133303.0</td>\n",
       "      <td>1425948.0</td>\n",
       "      <td>259423.0</td>\n",
       "      <td>813371.0</td>\n",
       "      <td>353154.0</td>\n",
       "      <td>1610289.0</td>\n",
       "      <td>763525.0</td>\n",
       "      <td>...</td>\n",
       "      <td>10115.0</td>\n",
       "      <td>11140.0</td>\n",
       "      <td>8651.0</td>\n",
       "      <td>82337.0</td>\n",
       "      <td>40238.0</td>\n",
       "      <td>133933.0</td>\n",
       "      <td>233.0</td>\n",
       "      <td>279.0</td>\n",
       "      <td>212.0</td>\n",
       "      <td>256.0</td>\n",
       "    </tr>\n",
       "    <tr>\n",
       "      <th>563</th>\n",
       "      <td>2003_ARIZONA</td>\n",
       "      <td>ARIZONA</td>\n",
       "      <td>2003</td>\n",
       "      <td>875111.0</td>\n",
       "      <td>6529894.0</td>\n",
       "      <td>740579.0</td>\n",
       "      <td>2912629.0</td>\n",
       "      <td>2876686.0</td>\n",
       "      <td>6210287.0</td>\n",
       "      <td>2810907.0</td>\n",
       "      <td>...</td>\n",
       "      <td>76207.0</td>\n",
       "      <td>76376.0</td>\n",
       "      <td>68815.0</td>\n",
       "      <td>613442.0</td>\n",
       "      <td>307272.0</td>\n",
       "      <td>1012068.0</td>\n",
       "      <td>229.0</td>\n",
       "      <td>271.0</td>\n",
       "      <td>209.0</td>\n",
       "      <td>255.0</td>\n",
       "    </tr>\n",
       "    <tr>\n",
       "      <th>564</th>\n",
       "      <td>2003_ARKANSAS</td>\n",
       "      <td>ARKANSAS</td>\n",
       "      <td>2003</td>\n",
       "      <td>450158.0</td>\n",
       "      <td>3241275.0</td>\n",
       "      <td>379947.0</td>\n",
       "      <td>2394336.0</td>\n",
       "      <td>466992.0</td>\n",
       "      <td>3242799.0</td>\n",
       "      <td>1768713.0</td>\n",
       "      <td>...</td>\n",
       "      <td>34070.0</td>\n",
       "      <td>37004.0</td>\n",
       "      <td>28840.0</td>\n",
       "      <td>281834.0</td>\n",
       "      <td>132712.0</td>\n",
       "      <td>454523.0</td>\n",
       "      <td>229.0</td>\n",
       "      <td>266.0</td>\n",
       "      <td>214.0</td>\n",
       "      <td>258.0</td>\n",
       "    </tr>\n",
       "    <tr>\n",
       "      <th>565</th>\n",
       "      <td>2003_CALIFORNIA</td>\n",
       "      <td>CALIFORNIA</td>\n",
       "      <td>2003</td>\n",
       "      <td>6226552.0</td>\n",
       "      <td>59815855.0</td>\n",
       "      <td>5795655.0</td>\n",
       "      <td>33617766.0</td>\n",
       "      <td>20402434.0</td>\n",
       "      <td>59749885.0</td>\n",
       "      <td>29561563.0</td>\n",
       "      <td>...</td>\n",
       "      <td>493415.0</td>\n",
       "      <td>500143.0</td>\n",
       "      <td>395194.0</td>\n",
       "      <td>3929869.0</td>\n",
       "      <td>1854518.0</td>\n",
       "      <td>6413867.0</td>\n",
       "      <td>227.0</td>\n",
       "      <td>267.0</td>\n",
       "      <td>206.0</td>\n",
       "      <td>251.0</td>\n",
       "    </tr>\n",
       "    <tr>\n",
       "      <th>...</th>\n",
       "      <td>...</td>\n",
       "      <td>...</td>\n",
       "      <td>...</td>\n",
       "      <td>...</td>\n",
       "      <td>...</td>\n",
       "      <td>...</td>\n",
       "      <td>...</td>\n",
       "      <td>...</td>\n",
       "      <td>...</td>\n",
       "      <td>...</td>\n",
       "      <td>...</td>\n",
       "      <td>...</td>\n",
       "      <td>...</td>\n",
       "      <td>...</td>\n",
       "      <td>...</td>\n",
       "      <td>...</td>\n",
       "      <td>...</td>\n",
       "      <td>...</td>\n",
       "      <td>...</td>\n",
       "      <td>...</td>\n",
       "      <td>...</td>\n",
       "    </tr>\n",
       "    <tr>\n",
       "      <th>1219</th>\n",
       "      <td>2015_VIRGINIA</td>\n",
       "      <td>VIRGINIA</td>\n",
       "      <td>2015</td>\n",
       "      <td>1279867.0</td>\n",
       "      <td>15857524.0</td>\n",
       "      <td>1012205.0</td>\n",
       "      <td>6240349.0</td>\n",
       "      <td>8604970.0</td>\n",
       "      <td>16113212.0</td>\n",
       "      <td>8755896.0</td>\n",
       "      <td>...</td>\n",
       "      <td>96851.0</td>\n",
       "      <td>95221.0</td>\n",
       "      <td>90391.0</td>\n",
       "      <td>772414.0</td>\n",
       "      <td>386781.0</td>\n",
       "      <td>1283590.0</td>\n",
       "      <td>247.0</td>\n",
       "      <td>288.0</td>\n",
       "      <td>229.0</td>\n",
       "      <td>267.0</td>\n",
       "    </tr>\n",
       "    <tr>\n",
       "      <th>1220</th>\n",
       "      <td>2015_WASHINGTON</td>\n",
       "      <td>WASHINGTON</td>\n",
       "      <td>2015</td>\n",
       "      <td>1072359.0</td>\n",
       "      <td>13709442.0</td>\n",
       "      <td>1036422.0</td>\n",
       "      <td>8293812.0</td>\n",
       "      <td>4379208.0</td>\n",
       "      <td>13630138.0</td>\n",
       "      <td>6508964.0</td>\n",
       "      <td>...</td>\n",
       "      <td>82404.0</td>\n",
       "      <td>79483.0</td>\n",
       "      <td>89258.0</td>\n",
       "      <td>656797.0</td>\n",
       "      <td>336808.0</td>\n",
       "      <td>1087030.0</td>\n",
       "      <td>245.0</td>\n",
       "      <td>287.0</td>\n",
       "      <td>226.0</td>\n",
       "      <td>267.0</td>\n",
       "    </tr>\n",
       "    <tr>\n",
       "      <th>1221</th>\n",
       "      <td>2015_WEST_VIRGINIA</td>\n",
       "      <td>WEST_VIRGINIA</td>\n",
       "      <td>2015</td>\n",
       "      <td>279565.0</td>\n",
       "      <td>3478401.0</td>\n",
       "      <td>362959.0</td>\n",
       "      <td>1979466.0</td>\n",
       "      <td>1135976.0</td>\n",
       "      <td>3466981.0</td>\n",
       "      <td>1819903.0</td>\n",
       "      <td>...</td>\n",
       "      <td>19814.0</td>\n",
       "      <td>20426.0</td>\n",
       "      <td>18432.0</td>\n",
       "      <td>162070.0</td>\n",
       "      <td>80142.0</td>\n",
       "      <td>277452.0</td>\n",
       "      <td>235.0</td>\n",
       "      <td>271.0</td>\n",
       "      <td>216.0</td>\n",
       "      <td>260.0</td>\n",
       "    </tr>\n",
       "    <tr>\n",
       "      <th>1222</th>\n",
       "      <td>2015_WISCONSIN</td>\n",
       "      <td>WISCONSIN</td>\n",
       "      <td>2015</td>\n",
       "      <td>861813.0</td>\n",
       "      <td>11637376.0</td>\n",
       "      <td>814385.0</td>\n",
       "      <td>5869265.0</td>\n",
       "      <td>4953726.0</td>\n",
       "      <td>11553677.0</td>\n",
       "      <td>5723474.0</td>\n",
       "      <td>...</td>\n",
       "      <td>60999.0</td>\n",
       "      <td>61084.0</td>\n",
       "      <td>66253.0</td>\n",
       "      <td>489919.0</td>\n",
       "      <td>263896.0</td>\n",
       "      <td>867800.0</td>\n",
       "      <td>243.0</td>\n",
       "      <td>289.0</td>\n",
       "      <td>223.0</td>\n",
       "      <td>270.0</td>\n",
       "    </tr>\n",
       "    <tr>\n",
       "      <th>1223</th>\n",
       "      <td>2015_WYOMING</td>\n",
       "      <td>WYOMING</td>\n",
       "      <td>2015</td>\n",
       "      <td>93867.0</td>\n",
       "      <td>1962874.0</td>\n",
       "      <td>120290.0</td>\n",
       "      <td>1116917.0</td>\n",
       "      <td>725667.0</td>\n",
       "      <td>1942406.0</td>\n",
       "      <td>895910.0</td>\n",
       "      <td>...</td>\n",
       "      <td>7551.0</td>\n",
       "      <td>6902.0</td>\n",
       "      <td>6299.0</td>\n",
       "      <td>59453.0</td>\n",
       "      <td>26914.0</td>\n",
       "      <td>94717.0</td>\n",
       "      <td>247.0</td>\n",
       "      <td>287.0</td>\n",
       "      <td>228.0</td>\n",
       "      <td>269.0</td>\n",
       "    </tr>\n",
       "  </tbody>\n",
       "</table>\n",
       "<p>355 rows × 25 columns</p>\n",
       "</div>"
      ],
      "text/plain": [
       "             PRIMARY_KEY          STATE  YEAR  ENROLL_ALL_EST  TOTAL_REVENUE  \\\n",
       "561         2003_ALABAMA        ALABAMA  2003        727900.0      5196054.0   \n",
       "562          2003_ALASKA         ALASKA  2003        133303.0      1425948.0   \n",
       "563         2003_ARIZONA        ARIZONA  2003        875111.0      6529894.0   \n",
       "564        2003_ARKANSAS       ARKANSAS  2003        450158.0      3241275.0   \n",
       "565      2003_CALIFORNIA     CALIFORNIA  2003       6226552.0     59815855.0   \n",
       "...                  ...            ...   ...             ...            ...   \n",
       "1219       2015_VIRGINIA       VIRGINIA  2015       1279867.0     15857524.0   \n",
       "1220     2015_WASHINGTON     WASHINGTON  2015       1072359.0     13709442.0   \n",
       "1221  2015_WEST_VIRGINIA  WEST_VIRGINIA  2015        279565.0      3478401.0   \n",
       "1222      2015_WISCONSIN      WISCONSIN  2015        861813.0     11637376.0   \n",
       "1223        2015_WYOMING        WYOMING  2015         93867.0      1962874.0   \n",
       "\n",
       "      FEDERAL_REVENUE  STATE_REVENUE  LOCAL_REVENUE  TOTAL_EXPENDITURE  \\\n",
       "561          567704.0      2966981.0      1661369.0          5298932.0   \n",
       "562          259423.0       813371.0       353154.0          1610289.0   \n",
       "563          740579.0      2912629.0      2876686.0          6210287.0   \n",
       "564          379947.0      2394336.0       466992.0          3242799.0   \n",
       "565         5795655.0     33617766.0     20402434.0         59749885.0   \n",
       "...               ...            ...            ...                ...   \n",
       "1219        1012205.0      6240349.0      8604970.0         16113212.0   \n",
       "1220        1036422.0      8293812.0      4379208.0         13630138.0   \n",
       "1221         362959.0      1979466.0      1135976.0          3466981.0   \n",
       "1222         814385.0      5869265.0      4953726.0         11553677.0   \n",
       "1223         120290.0      1116917.0       725667.0          1942406.0   \n",
       "\n",
       "      INSTRUCTION_EXPENDITURE  ...  ENROLL_4  ENROLL_8  ENROLL_12  \\\n",
       "561                 2817111.0  ...   57323.0   59663.0    42005.0   \n",
       "562                  763525.0  ...   10115.0   11140.0     8651.0   \n",
       "563                 2810907.0  ...   76207.0   76376.0    68815.0   \n",
       "564                 1768713.0  ...   34070.0   37004.0    28840.0   \n",
       "565                29561563.0  ...  493415.0  500143.0   395194.0   \n",
       "...                       ...  ...       ...       ...        ...   \n",
       "1219                8755896.0  ...   96851.0   95221.0    90391.0   \n",
       "1220                6508964.0  ...   82404.0   79483.0    89258.0   \n",
       "1221                1819903.0  ...   19814.0   20426.0    18432.0   \n",
       "1222                5723474.0  ...   60999.0   61084.0    66253.0   \n",
       "1223                 895910.0  ...    7551.0    6902.0     6299.0   \n",
       "\n",
       "      ENROLL_PRIMARY  ENROLL_HS  ENROLL_ALL  AVG_MATH_4_SCORE  \\\n",
       "561         466920.0   205907.0    731220.0             223.0   \n",
       "562          82337.0    40238.0    133933.0             233.0   \n",
       "563         613442.0   307272.0   1012068.0             229.0   \n",
       "564         281834.0   132712.0    454523.0             229.0   \n",
       "565        3929869.0  1854518.0   6413867.0             227.0   \n",
       "...              ...        ...         ...               ...   \n",
       "1219        772414.0   386781.0   1283590.0             247.0   \n",
       "1220        656797.0   336808.0   1087030.0             245.0   \n",
       "1221        162070.0    80142.0    277452.0             235.0   \n",
       "1222        489919.0   263896.0    867800.0             243.0   \n",
       "1223         59453.0    26914.0     94717.0             247.0   \n",
       "\n",
       "      AVG_MATH_8_SCORE  AVG_READING_4_SCORE  AVG_READING_8_SCORE  \n",
       "561              262.0                207.0                253.0  \n",
       "562              279.0                212.0                256.0  \n",
       "563              271.0                209.0                255.0  \n",
       "564              266.0                214.0                258.0  \n",
       "565              267.0                206.0                251.0  \n",
       "...                ...                  ...                  ...  \n",
       "1219             288.0                229.0                267.0  \n",
       "1220             287.0                226.0                267.0  \n",
       "1221             271.0                216.0                260.0  \n",
       "1222             289.0                223.0                270.0  \n",
       "1223             287.0                228.0                269.0  \n",
       "\n",
       "[355 rows x 25 columns]"
      ]
     },
     "execution_count": 20,
     "metadata": {},
     "output_type": "execute_result"
    }
   ],
   "source": [
    "# rename the columns\n",
    "data.rename({\n",
    "    'GRADES_PK_G':'ENROLL_PREK',\n",
    "    'GRADES_KG_G':'ENROLL_KINDER',\n",
    "    'GRADES_4_G':'ENROLL_4',\n",
    "    'GRADES_8_G':'ENROLL_8',\n",
    "    'GRADES_12_G':'ENROLL_12',\n",
    "    'GRADES_1_8_G':'ENROLL_PRIMARY',\n",
    "    'GRADES_9_12_G':'ENROLL_HS',\n",
    "    'GRADES_ALL_G':'ENROLL_ALL',\n",
    "    'ENROLL':'ENROLL_ALL_EST'\n",
    "    },\n",
    "    axis=1)\n",
    "\n",
    "# rows which contain at least one NaN are ignored.\n",
    "data.dropna()"
   ]
  },
  {
   "cell_type": "markdown",
   "metadata": {},
   "source": [
    "<h2>Exploratory Data Analysis (EDA) </h2>"
   ]
  },
  {
   "cell_type": "markdown",
   "metadata": {},
   "source": [
    "Chosen Predictor for Test: **<Math for 4th grade>**   (Ex. Math for 8th grade)\n",
    "\n",
    "**(hit `Enter` to edit)**\n",
    "\n",
    "Predictor Score in the questions refers to the predictor variable you chose here."
   ]
  },
  {
   "cell_type": "markdown",
   "metadata": {},
   "source": [
    "How many different years of data are in our dataset? Use a pandas function."
   ]
  },
  {
   "cell_type": "code",
   "execution_count": 17,
   "metadata": {},
   "outputs": [
    {
     "data": {
      "text/plain": [
       "PRIMARY_KEY                     1715\n",
       "STATE                             53\n",
       "YEAR                              33\n",
       "ENROLL_ALL_EST                  1224\n",
       "TOTAL_REVENUE                   1274\n",
       "FEDERAL_REVENUE                 1275\n",
       "STATE_REVENUE                   1251\n",
       "LOCAL_REVENUE                   1275\n",
       "TOTAL_EXPENDITURE               1275\n",
       "INSTRUCTION_EXPENDITURE         1275\n",
       "SUPPORT_SERVICES_EXPENDITURE    1275\n",
       "OTHER_EXPENDITURE               1222\n",
       "CAPITAL_OUTLAY_EXPENDITURE      1275\n",
       "ENROLL_PREK                     1483\n",
       "ENROLL_KINDER                   1613\n",
       "ENROLL_4                        1612\n",
       "ENROLL_8                        1620\n",
       "ENROLL_12                       1608\n",
       "ENROLL_PRIMARY                  1020\n",
       "ENROLL_HS                       1070\n",
       "ENROLL_ALL                      1629\n",
       "AVG_MATH_4_SCORE                  50\n",
       "AVG_MATH_8_SCORE                  57\n",
       "AVG_READING_4_SCORE               43\n",
       "AVG_READING_8_SCORE               39\n",
       "dtype: int64"
      ]
     },
     "execution_count": 17,
     "metadata": {},
     "output_type": "execute_result"
    }
   ],
   "source": [
    "data.nunique() # got 33 years."
   ]
  },
  {
   "cell_type": "code",
   "execution_count": 29,
   "metadata": {},
   "outputs": [
    {
     "data": {
      "text/html": [
       "<div>\n",
       "<style scoped>\n",
       "    .dataframe tbody tr th:only-of-type {\n",
       "        vertical-align: middle;\n",
       "    }\n",
       "\n",
       "    .dataframe tbody tr th {\n",
       "        vertical-align: top;\n",
       "    }\n",
       "\n",
       "    .dataframe thead th {\n",
       "        text-align: right;\n",
       "    }\n",
       "</style>\n",
       "<table border=\"1\" class=\"dataframe\">\n",
       "  <thead>\n",
       "    <tr style=\"text-align: right;\">\n",
       "      <th></th>\n",
       "      <th>STATE</th>\n",
       "      <th>YEAR</th>\n",
       "      <th>AVG_MATH_4_SCORE</th>\n",
       "    </tr>\n",
       "  </thead>\n",
       "  <tbody>\n",
       "    <tr>\n",
       "      <th>0</th>\n",
       "      <td>ALABAMA</td>\n",
       "      <td>1992</td>\n",
       "      <td>208.0</td>\n",
       "    </tr>\n",
       "    <tr>\n",
       "      <th>1</th>\n",
       "      <td>ALASKA</td>\n",
       "      <td>1992</td>\n",
       "      <td>NaN</td>\n",
       "    </tr>\n",
       "    <tr>\n",
       "      <th>2</th>\n",
       "      <td>ARIZONA</td>\n",
       "      <td>1992</td>\n",
       "      <td>215.0</td>\n",
       "    </tr>\n",
       "    <tr>\n",
       "      <th>3</th>\n",
       "      <td>ARKANSAS</td>\n",
       "      <td>1992</td>\n",
       "      <td>210.0</td>\n",
       "    </tr>\n",
       "    <tr>\n",
       "      <th>4</th>\n",
       "      <td>CALIFORNIA</td>\n",
       "      <td>1992</td>\n",
       "      <td>208.0</td>\n",
       "    </tr>\n",
       "  </tbody>\n",
       "</table>\n",
       "</div>"
      ],
      "text/plain": [
       "        STATE  YEAR  AVG_MATH_4_SCORE\n",
       "0     ALABAMA  1992             208.0\n",
       "1      ALASKA  1992               NaN\n",
       "2     ARIZONA  1992             215.0\n",
       "3    ARKANSAS  1992             210.0\n",
       "4  CALIFORNIA  1992             208.0"
      ]
     },
     "execution_count": 29,
     "metadata": {},
     "output_type": "execute_result"
    }
   ],
   "source": [
    "df = data[['STATE', 'YEAR','AVG_MATH_4_SCORE']]\n",
    "df.head()"
   ]
  },
  {
   "cell_type": "markdown",
   "metadata": {},
   "source": [
    "Let's compare Michigan to Ohio. Which state has the higher average predictor score across all years?"
   ]
  },
  {
   "cell_type": "code",
   "execution_count": 43,
   "metadata": {},
   "outputs": [
    {
     "data": {
      "text/plain": [
       "22      220.0\n",
       "73        NaN\n",
       "124       NaN\n",
       "175       NaN\n",
       "226       NaN\n",
       "277       NaN\n",
       "328       NaN\n",
       "379       NaN\n",
       "430     229.0\n",
       "481       NaN\n",
       "532       NaN\n",
       "583     236.0\n",
       "634       NaN\n",
       "685     238.0\n",
       "736       NaN\n",
       "787     238.0\n",
       "838       NaN\n",
       "889     236.0\n",
       "940       NaN\n",
       "991     236.0\n",
       "1042      NaN\n",
       "1093    237.0\n",
       "1144      NaN\n",
       "1195    236.0\n",
       "1246      NaN\n",
       "1429      NaN\n",
       "1430      NaN\n",
       "1431      NaN\n",
       "1432      NaN\n",
       "1433      NaN\n",
       "1434      NaN\n",
       "1435    236.0\n",
       "1685    236.0\n",
       "Name: AVG_MATH_4_SCORE, dtype: float64"
      ]
     },
     "execution_count": 43,
     "metadata": {},
     "output_type": "execute_result"
    }
   ],
   "source": [
    "michigan_math_4 = df[df['STATE'].isin(['MICHIGAN'])]\n",
    "michigan_math_4.head()\n",
    "michigan_math_4[\"AVG_MATH_4_SCORE\"]"
   ]
  },
  {
   "cell_type": "code",
   "execution_count": 49,
   "metadata": {},
   "outputs": [
    {
     "name": "stdout",
     "output_type": "stream",
     "text": [
      "STATE\n",
      "ALABAMA                 226.090909\n",
      "ALASKA                  234.777778\n",
      "ARIZONA                 230.909091\n",
      "ARKANSAS                231.545455\n",
      "CALIFORNIA              227.909091\n",
      "COLORADO                239.400000\n",
      "CONNECTICUT             239.909091\n",
      "DELAWARE                237.200000\n",
      "DISTRICT_OF_COLUMBIA    216.545455\n",
      "DODEA                   241.600000\n",
      "FLORIDA                 238.800000\n",
      "GEORGIA                 232.545455\n",
      "HAWAII                  232.181818\n",
      "IDAHO                   237.000000\n",
      "ILLINOIS                235.400000\n",
      "INDIANA                 241.181818\n",
      "IOWA                    240.090909\n",
      "KANSAS                  242.600000\n",
      "KENTUCKY                233.636364\n",
      "LOUISIANA               226.636364\n",
      "MAINE                   240.000000\n",
      "MARYLAND                236.818182\n",
      "MASSACHUSETTS           246.000000\n",
      "MICHIGAN                234.363636\n",
      "MINNESOTA               245.000000\n",
      "MISSISSIPPI             226.272727\n",
      "MISSOURI                236.090909\n",
      "MONTANA                 240.400000\n",
      "NATIONAL                233.846154\n",
      "NEBRASKA                238.000000\n",
      "NEVADA                  232.000000\n",
      "NEW_HAMPSHIRE           246.300000\n",
      "NEW_JERSEY              244.000000\n",
      "NEW_MEXICO              226.272727\n",
      "NEW_YORK                235.363636\n",
      "NORTH_CAROLINA          238.909091\n",
      "NORTH_DAKOTA            241.181818\n",
      "OHIO                    239.454545\n",
      "OKLAHOMA                233.727273\n",
      "OREGON                  235.600000\n",
      "PENNSYLVANIA            240.800000\n",
      "RHODE_ISLAND            234.090909\n",
      "SOUTH_CAROLINA          232.818182\n",
      "SOUTH_DAKOTA            240.777778\n",
      "TENNESSEE               231.545455\n",
      "TEXAS                   238.363636\n",
      "UTAH                    238.090909\n",
      "VERMONT                 243.000000\n",
      "VIRGINIA                240.909091\n",
      "WASHINGTON              242.333333\n",
      "WEST_VIRGINIA           231.181818\n",
      "WISCONSIN               241.000000\n",
      "WYOMING                 241.454545\n",
      "Name: AVG_MATH_4_SCORE, dtype: float64\n"
     ]
    }
   ],
   "source": [
    "AVG_MATH_4_STATE = df.groupby('STATE').AVG_MATH_4_SCORE.mean()\n",
    "print(AVG_MATH_4_STATE)"
   ]
  },
  {
   "cell_type": "code",
   "execution_count": 53,
   "metadata": {},
   "outputs": [
    {
     "data": {
      "text/plain": [
       "True"
      ]
     },
     "execution_count": 53,
     "metadata": {},
     "output_type": "execute_result"
    }
   ],
   "source": [
    "mich = AVG_MATH_4_STATE[\"MICHIGAN\"]\n",
    "ohio = AVG_MATH_4_STATE[\"OHIO\"]\n",
    "mich < ohio # OHIO has the higher average of Avg Math 4 Grade"
   ]
  },
  {
   "cell_type": "markdown",
   "metadata": {},
   "source": [
    "Find the average for your pedictor score across all states in 2019"
   ]
  },
  {
   "cell_type": "code",
   "execution_count": 55,
   "metadata": {},
   "outputs": [
    {
     "data": {
      "text/plain": [
       "YEAR\n",
       "1986      NaN\n",
       "1987      NaN\n",
       "1988      NaN\n",
       "1989      NaN\n",
       "1990    213.0\n",
       "Name: AVG_MATH_4_SCORE, dtype: float64"
      ]
     },
     "execution_count": 55,
     "metadata": {},
     "output_type": "execute_result"
    }
   ],
   "source": [
    "# average is a vector of values of AVG_MATH_4_SCORE in every year\n",
    "average = df.groupby('YEAR').AVG_MATH_4_SCORE.mean() \n",
    "average.head()"
   ]
  },
  {
   "cell_type": "code",
   "execution_count": 58,
   "metadata": {},
   "outputs": [
    {
     "data": {
      "text/plain": [
       "239.9433962264151"
      ]
     },
     "execution_count": 58,
     "metadata": {},
     "output_type": "execute_result"
    }
   ],
   "source": [
    "average[2019]"
   ]
  },
  {
   "cell_type": "markdown",
   "metadata": {},
   "source": [
    "Find the maximum predictor score for every state. Hint: there's a function that allows you to do this easily"
   ]
  },
  {
   "cell_type": "code",
   "execution_count": 60,
   "metadata": {},
   "outputs": [
    {
     "name": "stdout",
     "output_type": "stream",
     "text": [
      "STATE\n",
      "ALABAMA                 233.0\n",
      "ALASKA                  237.0\n",
      "ARIZONA                 240.0\n",
      "ARKANSAS                240.0\n",
      "CALIFORNIA              235.0\n",
      "COLORADO                247.0\n",
      "CONNECTICUT             245.0\n",
      "DELAWARE                243.0\n",
      "DISTRICT_OF_COLUMBIA    235.0\n",
      "DODEA                   250.0\n",
      "FLORIDA                 246.0\n",
      "GEORGIA                 240.0\n",
      "HAWAII                  243.0\n",
      "IDAHO                   242.0\n",
      "ILLINOIS                239.0\n",
      "INDIANA                 249.0\n",
      "IOWA                    246.0\n",
      "KANSAS                  248.0\n",
      "KENTUCKY                242.0\n",
      "LOUISIANA               234.0\n",
      "MAINE                   246.0\n",
      "MARYLAND                247.0\n",
      "MASSACHUSETTS           253.0\n",
      "MICHIGAN                238.0\n",
      "MINNESOTA               253.0\n",
      "MISSISSIPPI             241.0\n",
      "MISSOURI                241.0\n",
      "MONTANA                 244.0\n",
      "NATIONAL                242.0\n",
      "NEBRASKA                246.0\n",
      "NEVADA                  237.0\n",
      "NEW_HAMPSHIRE           253.0\n",
      "NEW_JERSEY              249.0\n",
      "NEW_MEXICO              233.0\n",
      "NEW_YORK                243.0\n",
      "NORTH_CAROLINA          245.0\n",
      "NORTH_DAKOTA            246.0\n",
      "OHIO                    246.0\n",
      "OKLAHOMA                240.0\n",
      "OREGON                  240.0\n",
      "PENNSYLVANIA            246.0\n",
      "RHODE_ISLAND            242.0\n",
      "SOUTH_CAROLINA          238.0\n",
      "SOUTH_DAKOTA            242.0\n",
      "TENNESSEE               241.0\n",
      "TEXAS                   244.0\n",
      "UTAH                    244.0\n",
      "VERMONT                 248.0\n",
      "VIRGINIA                248.0\n",
      "WASHINGTON              246.0\n",
      "WEST_VIRGINIA           237.0\n",
      "WISCONSIN               245.0\n",
      "WYOMING                 248.0\n",
      "Name: AVG_MATH_4_SCORE, dtype: float64\n"
     ]
    }
   ],
   "source": [
    "Max = df.groupby('STATE').AVG_MATH_4_SCORE.max()\n",
    "print(Max)"
   ]
  },
  {
   "cell_type": "markdown",
   "metadata": {},
   "source": [
    "<h2> Feature Selection </h2>\n",
    "\n",
    "After exploring the data, you now have to choose features that you would use to predict the performance of the students on a chosen test (your chosen predictor). By the way, you can also create your own features. For example, perhaps you figured that maybe a state's expenditure per student may affect their overall academic performance so you create a expenditure_per_student feature.\n",
    "\n",
    "Use this space to modify or create features"
   ]
  },
  {
   "cell_type": "code",
   "execution_count": 63,
   "metadata": {},
   "outputs": [
    {
     "data": {
      "text/html": [
       "<div>\n",
       "<style scoped>\n",
       "    .dataframe tbody tr th:only-of-type {\n",
       "        vertical-align: middle;\n",
       "    }\n",
       "\n",
       "    .dataframe tbody tr th {\n",
       "        vertical-align: top;\n",
       "    }\n",
       "\n",
       "    .dataframe thead th {\n",
       "        text-align: right;\n",
       "    }\n",
       "</style>\n",
       "<table border=\"1\" class=\"dataframe\">\n",
       "  <thead>\n",
       "    <tr style=\"text-align: right;\">\n",
       "      <th></th>\n",
       "      <th>PRIMARY_KEY</th>\n",
       "      <th>STATE</th>\n",
       "      <th>YEAR</th>\n",
       "      <th>ENROLL_ALL_EST</th>\n",
       "      <th>TOTAL_REVENUE</th>\n",
       "      <th>FEDERAL_REVENUE</th>\n",
       "      <th>STATE_REVENUE</th>\n",
       "      <th>LOCAL_REVENUE</th>\n",
       "      <th>TOTAL_EXPENDITURE</th>\n",
       "      <th>INSTRUCTION_EXPENDITURE</th>\n",
       "      <th>...</th>\n",
       "      <th>ENROLL_8</th>\n",
       "      <th>ENROLL_12</th>\n",
       "      <th>ENROLL_PRIMARY</th>\n",
       "      <th>ENROLL_HS</th>\n",
       "      <th>ENROLL_ALL</th>\n",
       "      <th>AVG_MATH_4_SCORE</th>\n",
       "      <th>AVG_MATH_8_SCORE</th>\n",
       "      <th>AVG_READING_4_SCORE</th>\n",
       "      <th>AVG_READING_8_SCORE</th>\n",
       "      <th>Instruction_Expenditure_per_student</th>\n",
       "    </tr>\n",
       "  </thead>\n",
       "  <tbody>\n",
       "    <tr>\n",
       "      <th>0</th>\n",
       "      <td>1992_ALABAMA</td>\n",
       "      <td>ALABAMA</td>\n",
       "      <td>1992</td>\n",
       "      <td>NaN</td>\n",
       "      <td>2678885.0</td>\n",
       "      <td>304177.0</td>\n",
       "      <td>1659028.0</td>\n",
       "      <td>715680.0</td>\n",
       "      <td>2653798.0</td>\n",
       "      <td>1481703.0</td>\n",
       "      <td>...</td>\n",
       "      <td>58025.0</td>\n",
       "      <td>41167.0</td>\n",
       "      <td>NaN</td>\n",
       "      <td>NaN</td>\n",
       "      <td>731634.0</td>\n",
       "      <td>208.0</td>\n",
       "      <td>252.0</td>\n",
       "      <td>207.0</td>\n",
       "      <td>NaN</td>\n",
       "      <td>25.569528</td>\n",
       "    </tr>\n",
       "    <tr>\n",
       "      <th>1</th>\n",
       "      <td>1992_ALASKA</td>\n",
       "      <td>ALASKA</td>\n",
       "      <td>1992</td>\n",
       "      <td>NaN</td>\n",
       "      <td>1049591.0</td>\n",
       "      <td>106780.0</td>\n",
       "      <td>720711.0</td>\n",
       "      <td>222100.0</td>\n",
       "      <td>972488.0</td>\n",
       "      <td>498362.0</td>\n",
       "      <td>...</td>\n",
       "      <td>8789.0</td>\n",
       "      <td>6714.0</td>\n",
       "      <td>NaN</td>\n",
       "      <td>NaN</td>\n",
       "      <td>122487.0</td>\n",
       "      <td>NaN</td>\n",
       "      <td>NaN</td>\n",
       "      <td>NaN</td>\n",
       "      <td>NaN</td>\n",
       "      <td>51.124538</td>\n",
       "    </tr>\n",
       "    <tr>\n",
       "      <th>2</th>\n",
       "      <td>1992_ARIZONA</td>\n",
       "      <td>ARIZONA</td>\n",
       "      <td>1992</td>\n",
       "      <td>NaN</td>\n",
       "      <td>3258079.0</td>\n",
       "      <td>297888.0</td>\n",
       "      <td>1369815.0</td>\n",
       "      <td>1590376.0</td>\n",
       "      <td>3401580.0</td>\n",
       "      <td>1435908.0</td>\n",
       "      <td>...</td>\n",
       "      <td>49081.0</td>\n",
       "      <td>37410.0</td>\n",
       "      <td>NaN</td>\n",
       "      <td>NaN</td>\n",
       "      <td>673477.0</td>\n",
       "      <td>215.0</td>\n",
       "      <td>265.0</td>\n",
       "      <td>209.0</td>\n",
       "      <td>NaN</td>\n",
       "      <td>25.903487</td>\n",
       "    </tr>\n",
       "    <tr>\n",
       "      <th>3</th>\n",
       "      <td>1992_ARKANSAS</td>\n",
       "      <td>ARKANSAS</td>\n",
       "      <td>1992</td>\n",
       "      <td>NaN</td>\n",
       "      <td>1711959.0</td>\n",
       "      <td>178571.0</td>\n",
       "      <td>958785.0</td>\n",
       "      <td>574603.0</td>\n",
       "      <td>1743022.0</td>\n",
       "      <td>964323.0</td>\n",
       "      <td>...</td>\n",
       "      <td>36011.0</td>\n",
       "      <td>27651.0</td>\n",
       "      <td>NaN</td>\n",
       "      <td>NaN</td>\n",
       "      <td>441490.0</td>\n",
       "      <td>210.0</td>\n",
       "      <td>256.0</td>\n",
       "      <td>211.0</td>\n",
       "      <td>NaN</td>\n",
       "      <td>27.844854</td>\n",
       "    </tr>\n",
       "    <tr>\n",
       "      <th>4</th>\n",
       "      <td>1992_CALIFORNIA</td>\n",
       "      <td>CALIFORNIA</td>\n",
       "      <td>1992</td>\n",
       "      <td>NaN</td>\n",
       "      <td>26260025.0</td>\n",
       "      <td>2072470.0</td>\n",
       "      <td>16546514.0</td>\n",
       "      <td>7641041.0</td>\n",
       "      <td>27138832.0</td>\n",
       "      <td>14358922.0</td>\n",
       "      <td>...</td>\n",
       "      <td>363296.0</td>\n",
       "      <td>270675.0</td>\n",
       "      <td>NaN</td>\n",
       "      <td>NaN</td>\n",
       "      <td>5254844.0</td>\n",
       "      <td>208.0</td>\n",
       "      <td>261.0</td>\n",
       "      <td>202.0</td>\n",
       "      <td>NaN</td>\n",
       "      <td>34.317171</td>\n",
       "    </tr>\n",
       "  </tbody>\n",
       "</table>\n",
       "<p>5 rows × 26 columns</p>\n",
       "</div>"
      ],
      "text/plain": [
       "       PRIMARY_KEY       STATE  YEAR  ENROLL_ALL_EST  TOTAL_REVENUE  \\\n",
       "0     1992_ALABAMA     ALABAMA  1992             NaN      2678885.0   \n",
       "1      1992_ALASKA      ALASKA  1992             NaN      1049591.0   \n",
       "2     1992_ARIZONA     ARIZONA  1992             NaN      3258079.0   \n",
       "3    1992_ARKANSAS    ARKANSAS  1992             NaN      1711959.0   \n",
       "4  1992_CALIFORNIA  CALIFORNIA  1992             NaN     26260025.0   \n",
       "\n",
       "   FEDERAL_REVENUE  STATE_REVENUE  LOCAL_REVENUE  TOTAL_EXPENDITURE  \\\n",
       "0         304177.0      1659028.0       715680.0          2653798.0   \n",
       "1         106780.0       720711.0       222100.0           972488.0   \n",
       "2         297888.0      1369815.0      1590376.0          3401580.0   \n",
       "3         178571.0       958785.0       574603.0          1743022.0   \n",
       "4        2072470.0     16546514.0      7641041.0         27138832.0   \n",
       "\n",
       "   INSTRUCTION_EXPENDITURE  ...  ENROLL_8  ENROLL_12  ENROLL_PRIMARY  \\\n",
       "0                1481703.0  ...   58025.0    41167.0             NaN   \n",
       "1                 498362.0  ...    8789.0     6714.0             NaN   \n",
       "2                1435908.0  ...   49081.0    37410.0             NaN   \n",
       "3                 964323.0  ...   36011.0    27651.0             NaN   \n",
       "4               14358922.0  ...  363296.0   270675.0             NaN   \n",
       "\n",
       "   ENROLL_HS  ENROLL_ALL  AVG_MATH_4_SCORE  AVG_MATH_8_SCORE  \\\n",
       "0        NaN    731634.0             208.0             252.0   \n",
       "1        NaN    122487.0               NaN               NaN   \n",
       "2        NaN    673477.0             215.0             265.0   \n",
       "3        NaN    441490.0             210.0             256.0   \n",
       "4        NaN   5254844.0             208.0             261.0   \n",
       "\n",
       "   AVG_READING_4_SCORE  AVG_READING_8_SCORE  \\\n",
       "0                207.0                  NaN   \n",
       "1                  NaN                  NaN   \n",
       "2                209.0                  NaN   \n",
       "3                211.0                  NaN   \n",
       "4                202.0                  NaN   \n",
       "\n",
       "   Instruction_Expenditure_per_student  \n",
       "0                            25.569528  \n",
       "1                            51.124538  \n",
       "2                            25.903487  \n",
       "3                            27.844854  \n",
       "4                            34.317171  \n",
       "\n",
       "[5 rows x 26 columns]"
      ]
     },
     "execution_count": 63,
     "metadata": {},
     "output_type": "execute_result"
    }
   ],
   "source": [
    "data['Instruction_Expenditure_per_student'] = data['INSTRUCTION_EXPENDITURE'] / data['ENROLL_4']\n",
    "data.head()"
   ]
  },
  {
   "cell_type": "markdown",
   "metadata": {},
   "source": [
    "Final feature list: **<Instruction_Expenditure_per_student and YEAR\\>**"
   ]
  },
  {
   "cell_type": "markdown",
   "metadata": {},
   "source": [
    "Feature selection justification: **<The more students live in a state, the more the state spend money on education, so it should be standardized. Besides, I think expenditure for instruction affect more directly than total expenditure. Also, years pass, methods of education might change and it affects the performance of students. \\>**"
   ]
  },
  {
   "cell_type": "markdown",
   "metadata": {},
   "source": [
    "<h2>Visualization</h2>\n",
    "\n",
    "Use any graph you wish to see the relationship of your chosen predictor with any features you chose\n",
    "\n",
    "**Visualization 1**"
   ]
  },
  {
   "cell_type": "code",
   "execution_count": 64,
   "metadata": {},
   "outputs": [
    {
     "data": {
      "text/plain": [
       "Text(0.5, 1.0, 'Distribution of 4th grade math scores')"
      ]
     },
     "execution_count": 64,
     "metadata": {},
     "output_type": "execute_result"
    },
    {
     "data": {
      "image/png": "[encoded data removed]",
      "text/plain": [
       "<Figure size 432x288 with 1 Axes>"
      ]
     },
     "metadata": {
      "needs_background": "light"
     },
     "output_type": "display_data"
    }
   ],
   "source": [
    "data.AVG_MATH_4_SCORE.hist()\n",
    "plt.xlabel('score')\n",
    "plt.ylabel('Frequency')\n",
    "plt.title('Distribution of 4th grade math scores')"
   ]
  },
  {
   "cell_type": "markdown",
   "metadata": {},
   "source": [
    "**<Figure 1\n",
    "This is a histogram of math scores of 4th grade students. The data were from 1992 to 2019 across the states. The graph is left skewed. >**"
   ]
  },
  {
   "cell_type": "markdown",
   "metadata": {},
   "source": [
    "**Visualization 2**"
   ]
  },
  {
   "cell_type": "code",
   "execution_count": 65,
   "metadata": {},
   "outputs": [
    {
     "data": {
      "text/plain": [
       "<AxesSubplot:xlabel='Instruction_Expenditure_per_student', ylabel='AVG_MATH_4_SCORE'>"
      ]
     },
     "execution_count": 65,
     "metadata": {},
     "output_type": "execute_result"
    },
    {
     "data": {
      "image/png": "[encoded data removed]",
      "text/plain": [
       "<Figure size 432x288 with 1 Axes>"
      ]
     },
     "metadata": {
      "needs_background": "light"
     },
     "output_type": "display_data"
    }
   ],
   "source": [
    "data.plot.scatter(x='Instruction_Expenditure_per_student', y='AVG_MATH_4_SCORE')"
   ]
  },
  {
   "cell_type": "markdown",
   "metadata": {},
   "source": [
    "**<Figure 2 \n",
    "This is a graph between Instruction Expenditure per Student(IEpS) and average math scores of 4th grade student. Before IEpS reaches to aroud 125 $$ / student, there is a positive correlational relation between them. However, after IEpS exceeds 125 $/ student, the relation turns to a negative correlation. >**"
   ]
  },
  {
   "cell_type": "markdown",
   "metadata": {},
   "source": [
    "<h2> Data Creation </h2>\n",
    "\n",
    "_Use this space to create train/test data_"
   ]
  },
  {
   "cell_type": "code",
   "execution_count": 66,
   "metadata": {},
   "outputs": [],
   "source": [
    "from sklearn.model_selection import train_test_split"
   ]
  },
  {
   "cell_type": "code",
   "execution_count": 78,
   "metadata": {},
   "outputs": [],
   "source": [
    "data.dropna(subset=['AVG_MATH_4_SCORE'],inplace=True)"
   ]
  },
  {
   "cell_type": "code",
   "execution_count": 81,
   "metadata": {},
   "outputs": [],
   "source": [
    "X = data[['YEAR', 'Instruction_Expenditure_per_student']].dropna()\n",
    "y = data.loc[X.index]['AVG_MATH_4_SCORE']"
   ]
  },
  {
   "cell_type": "code",
   "execution_count": 82,
   "metadata": {},
   "outputs": [],
   "source": [
    "X_train, X_test, y_train, y_test = train_test_split(\n",
    "     X, y, test_size=.3, random_state=0)"
   ]
  },
  {
   "cell_type": "markdown",
   "metadata": {},
   "source": [
    "<h2> Prediction </h2>"
   ]
  },
  {
   "cell_type": "markdown",
   "metadata": {},
   "source": [
    "ML Models Resource: https://medium.com/@vijaya.beeravalli/comparison-of-machine-learning-classification-models-for-credit-card-default-data-c3cf805c9a5a"
   ]
  },
  {
   "cell_type": "markdown",
   "metadata": {},
   "source": [
    "Chosen ML task: **< REGRESSION >**"
   ]
  },
  {
   "cell_type": "code",
   "execution_count": 69,
   "metadata": {},
   "outputs": [],
   "source": [
    "# import your sklearn class here\n",
    "from sklearn.linear_model import LinearRegression"
   ]
  },
  {
   "cell_type": "code",
   "execution_count": 70,
   "metadata": {},
   "outputs": [],
   "source": [
    "# create your model here\n",
    "model = LinearRegression()"
   ]
  },
  {
   "cell_type": "code",
   "execution_count": 83,
   "metadata": {},
   "outputs": [
    {
     "data": {
      "text/plain": [
       "LinearRegression()"
      ]
     },
     "execution_count": 83,
     "metadata": {},
     "output_type": "execute_result"
    }
   ],
   "source": [
    "model.fit(X_train, y_train)"
   ]
  },
  {
   "cell_type": "code",
   "execution_count": 84,
   "metadata": {},
   "outputs": [],
   "source": [
    "y_pred = model.predict(X_test)"
   ]
  },
  {
   "cell_type": "code",
   "execution_count": 85,
   "metadata": {},
   "outputs": [
    {
     "name": "stdout",
     "output_type": "stream",
     "text": [
      "-1269.3665367190167\n",
      "[0.74678457 0.08979429]\n"
     ]
    }
   ],
   "source": [
    "print(model.intercept_)\n",
    "print(model.coef_)"
   ]
  },
  {
   "cell_type": "code",
   "execution_count": 86,
   "metadata": {},
   "outputs": [
    {
     "data": {
      "text/plain": [
       "0.5697105689188862"
      ]
     },
     "execution_count": 86,
     "metadata": {},
     "output_type": "execute_result"
    }
   ],
   "source": [
    "model.score(X_test, y_test)"
   ]
  },
  {
   "cell_type": "code",
   "execution_count": 87,
   "metadata": {},
   "outputs": [
    {
     "data": {
      "text/plain": [
       "0.8538753066256408"
      ]
     },
     "execution_count": 87,
     "metadata": {},
     "output_type": "execute_result"
    }
   ],
   "source": [
    "np.mean(model.predict(X_test)-y_test)"
   ]
  },
  {
   "cell_type": "code",
   "execution_count": 90,
   "metadata": {},
   "outputs": [
    {
     "data": {
      "text/plain": [
       "5.403289244312901"
      ]
     },
     "execution_count": 90,
     "metadata": {},
     "output_type": "execute_result"
    }
   ],
   "source": [
    "np.mean(np.abs(model.predict(X_test)-y_test))"
   ]
  },
  {
   "cell_type": "code",
   "execution_count": null,
   "metadata": {},
   "outputs": [],
   "source": [
    "# FOR CLASSIFICATION ONLY:\n",
    "from sklearn.metrics import plot_confusion_matrix\n",
    "\n",
    "plot_confusion_matrix(model, X_test, y_test,\n",
    "                         cmap=plt.cm.Blues)"
   ]
  },
  {
   "cell_type": "code",
   "execution_count": 89,
   "metadata": {},
   "outputs": [
    {
     "data": {
      "text/plain": [
       "Text(0, 0.5, 'Math 4th score')"
      ]
     },
     "execution_count": 89,
     "metadata": {},
     "output_type": "execute_result"
    },
    {
     "data": {
      "image/png": "[encoded data removed]",
      "text/plain": [
       "<Figure size 864x432 with 1 Axes>"
      ]
     },
     "metadata": {
      "needs_background": "light"
     },
     "output_type": "display_data"
    }
   ],
   "source": [
    "# FOR REGRESSION ONLY: (pick a single column to visualize results)\n",
    "\n",
    "# Results from this graph _should not_ be used as a part of your results -- it is just here to help with intuition. \n",
    "# Instead, look at the error values and individual intercepts.\n",
    "\n",
    "\n",
    "col_name = 'Instruction_Expenditure_per_student'\n",
    "col_index = X_train.columns.get_loc(col_name)\n",
    "\n",
    "f = plt.figure(figsize=(12,6))\n",
    "plt.scatter(X_train[col_name], y_train, color = \"red\")\n",
    "plt.scatter(X_train[col_name], model.predict(X_train), color = \"green\")\n",
    "plt.scatter(X_test[col_name], model.predict(X_test), color = \"blue\")\n",
    "\n",
    "new_x = np.linspace(X_train[col_name].min(),X_train[col_name].max(),200)\n",
    "intercept = model.predict([X_train.sort_values(col_name).iloc[0]]) - X_train[col_name].min()*model.coef_[col_index]\n",
    "plt.plot(new_x, intercept+new_x*model.coef_[col_index])\n",
    "\n",
    "plt.legend(['controlled model','true training','predicted training','predicted testing'])\n",
    "plt.xlabel(col_name)\n",
    "plt.ylabel('Math 4th score')"
   ]
  },
  {
   "cell_type": "markdown",
   "metadata": {},
   "source": [
    "<h2> Summary </h2>"
   ]
  },
  {
   "cell_type": "markdown",
   "metadata": {},
   "source": [
    "**<Considering the R^2 value, year and IEpS eplains about half of the observed values, which is not so bad. When I visualized the relationship between IEpS and the average math scores of 4th grade, I found something intresting. You can predict the positive effect before IEpS gets certain amount of money. \\>**"
   ]
  }
 ],
 "metadata": {
  "kernelspec": {
   "display_name": "Python 3",
   "language": "python",
   "name": "python3"
  },
  "language_info": {
   "codemirror_mode": {
    "name": "ipython",
    "version": 3
   },
   "file_extension": ".py",
   "mimetype": "text/x-python",
   "name": "python",
   "nbconvert_exporter": "python",
   "pygments_lexer": "ipython3",
   "version": "3.8.5"
  }
 },
 "nbformat": 4,
 "nbformat_minor": 4
}
